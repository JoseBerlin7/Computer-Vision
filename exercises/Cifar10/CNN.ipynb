{
  "cells": [
    {
      "cell_type": "code",
      "source": [
        "import torch\n",
        "from torch import nn\n",
        "from torch.utils.data import DataLoader\n",
        "import torchvision\n",
        "from torchvision import datasets\n",
        "from torchvision import transforms"
      ],
      "outputs": [],
      "execution_count": 1,
      "metadata": {
        "gather": {
          "logged": 1757148922747
        }
      }
    },
    {
      "cell_type": "code",
      "source": [
        "# transform = transforms.Compose([\n",
        "#     transforms.ToTensor()])"
      ],
      "outputs": [],
      "execution_count": 2,
      "metadata": {
        "gather": {
          "logged": 1757148923027
        }
      }
    },
    {
      "cell_type": "code",
      "source": [
        "transform = transforms.Compose([\n",
        "    transforms.RandomCrop(32),\n",
        "    transforms.RandomHorizontalFlip(),\n",
        "    transforms.RandomRotation(10),\n",
        "    transforms.ToTensor(),\n",
        "])"
      ],
      "outputs": [],
      "execution_count": 16,
      "metadata": {
        "gather": {
          "logged": 1757149066704
        }
      }
    },
    {
      "cell_type": "code",
      "source": [
        "trainset = datasets.CIFAR10(root=\"./data\", train=True, transform=transform, download=True)\n",
        "testset = datasets.CIFAR10(root=\"./data\",train=False,transform=transform,download=True)"
      ],
      "outputs": [],
      "execution_count": 17,
      "metadata": {
        "gather": {
          "logged": 1757149086670
        }
      }
    },
    {
      "cell_type": "code",
      "source": [
        "batch_size = 4\n",
        "train_dataloader = DataLoader(trainset,batch_size=batch_size,shuffle=True,num_workers=2)\n",
        "test_dataloader = DataLoader(testset, batch_size=batch_size, shuffle=False)"
      ],
      "outputs": [],
      "execution_count": 41,
      "metadata": {
        "gather": {
          "logged": 1757151280534
        }
      }
    },
    {
      "cell_type": "code",
      "source": [
        "classes = trainset.classes"
      ],
      "outputs": [],
      "execution_count": 42,
      "metadata": {
        "gather": {
          "logged": 1757151282901
        }
      }
    },
    {
      "cell_type": "code",
      "source": [
        "import matplotlib.pyplot as plt\n",
        "import numpy as np\n",
        "\n",
        "def imshow(img):\n",
        "    img = img / 2 + 0.5     # unnormalize\n",
        "    npimg = img.numpy()\n",
        "    plt.imshow(np.transpose(npimg, (1, 2, 0)))\n",
        "    plt.show()\n",
        "\n",
        "dataiter = iter(train_dataloader)\n",
        "images, labels = next(dataiter)\n",
        "\n",
        "# show images\n",
        "imshow(torchvision.utils.make_grid(images))\n",
        "# print labels\n",
        "print(' '.join(f'{classes[labels[j]]:5s}' for j in range(batch_size)))\n"
      ],
      "outputs": [
        {
          "output_type": "display_data",
          "data": {
            "text/plain": "<Figure size 640x480 with 1 Axes>",
            "image/png": "[encoded data removed]"
          },
          "metadata": {}
        },
        {
          "output_type": "stream",
          "name": "stdout",
          "text": "dog   ship  deer  horse\n"
        }
      ],
      "execution_count": 20,
      "metadata": {
        "gather": {
          "logged": 1757149087359
        }
      }
    },
    {
      "cell_type": "code",
      "source": [
        "images[0].shape"
      ],
      "outputs": [
        {
          "output_type": "execute_result",
          "execution_count": 21,
          "data": {
            "text/plain": "torch.Size([3, 32, 32])"
          },
          "metadata": {}
        }
      ],
      "execution_count": 21,
      "metadata": {
        "gather": {
          "logged": 1757149087610
        }
      }
    },
    {
      "cell_type": "code",
      "source": [
        "import torch\n",
        "import torch.nn as nn\n",
        "import torch.nn.functional as F\n",
        "\n",
        "class CifCNN(nn.Module):\n",
        "    def __init__(self):\n",
        "        super(CifCNN, self).__init__()\n",
        "        self.layers = nn.Sequential(\n",
        "            nn.Conv2d(3, 6, 5),        # input: 3 channels (RGB), output: 6 feature maps\n",
        "            nn.ReLU(),\n",
        "            nn.MaxPool2d(2, 2),\n",
        "\n",
        "            nn.Conv2d(6, 16, 5),       # FIXED: should take 6 input channels, not 3\n",
        "            nn.ReLU(),\n",
        "            nn.MaxPool2d(2, 2),\n",
        "\n",
        "            nn.Flatten(),\n",
        "            nn.Linear(16 * 5 * 5, 120), # CIFAR10 images are 32x32, works out to 5x5 after pooling\n",
        "            nn.ReLU(),\n",
        "            nn.Linear(120, 84),\n",
        "            nn.ReLU(),\n",
        "            nn.Linear(84, 10)\n",
        "        )\n",
        "\n",
        "    def forward(self, inp):\n",
        "        logits = self.layers(inp)\n",
        "        return logits\n"
      ],
      "outputs": [],
      "execution_count": 43,
      "metadata": {
        "gather": {
          "logged": 1757151286893
        }
      }
    },
    {
      "cell_type": "code",
      "source": [
        "device = torch.accelerator.current_accelerator() if torch.accelerator.is_available() else \"cpu\"\n",
        "model = CifCNN().to(device)\n",
        "print(model)"
      ],
      "outputs": [
        {
          "output_type": "stream",
          "name": "stdout",
          "text": "CifCNN(\n  (layers): Sequential(\n    (0): Conv2d(3, 6, kernel_size=(5, 5), stride=(1, 1))\n    (1): ReLU()\n    (2): MaxPool2d(kernel_size=2, stride=2, padding=0, dilation=1, ceil_mode=False)\n    (3): Conv2d(6, 16, kernel_size=(5, 5), stride=(1, 1))\n    (4): ReLU()\n    (5): MaxPool2d(kernel_size=2, stride=2, padding=0, dilation=1, ceil_mode=False)\n    (6): Flatten(start_dim=1, end_dim=-1)\n    (7): Linear(in_features=400, out_features=120, bias=True)\n    (8): ReLU()\n    (9): Linear(in_features=120, out_features=84, bias=True)\n    (10): ReLU()\n    (11): Linear(in_features=84, out_features=10, bias=True)\n  )\n)\n"
        }
      ],
      "execution_count": 44,
      "metadata": {
        "gather": {
          "logged": 1757151290608
        }
      }
    },
    {
      "cell_type": "code",
      "source": [
        "from torch import optim"
      ],
      "outputs": [],
      "execution_count": 45,
      "metadata": {
        "gather": {
          "logged": 1757151293520
        }
      }
    },
    {
      "cell_type": "code",
      "source": [
        "criterion = nn.CrossEntropyLoss()\n",
        "optimizer = optim.SGD(model.parameters(),lr=1e-3,momentum=0.9)"
      ],
      "outputs": [],
      "execution_count": 46,
      "metadata": {
        "gather": {
          "logged": 1757151294536
        }
      }
    },
    {
      "cell_type": "code",
      "source": [
        "# Training Network\n",
        "epochs = 5\n",
        "\n",
        "\n",
        "for epoch in range(epochs):\n",
        "    model.train()\n",
        "    running_loss = 0.0\n",
        "\n",
        "    for _, data in enumerate(train_dataloader, 0):\n",
        "        images, labels = data\n",
        "        images, labels = images.to(device), labels.to(device)\n",
        "\n",
        "        # forward pass\n",
        "        out = model(images)\n",
        "        loss = criterion(out, labels)\n",
        "\n",
        "        # Backward pass\n",
        "        optimizer.zero_grad()\n",
        "        loss.backward()\n",
        "        optimizer.step()\n",
        "\n",
        "        running_loss += loss.item()\n",
        "\n",
        "    print(f\"{epoch+1}/{epochs}\\t Loss: {running_loss}\")\n",
        "    model.eval()\n",
        "    correct , total = 0, 0\n",
        "\n",
        "    with torch.no_grad():\n",
        "        for data in test_dataloader:\n",
        "            images, labels = data\n",
        "            images, labels = images.to(device), labels.to(device)\n",
        "\n",
        "            outputs = model(images)\n",
        "\n",
        "            _, pred = torch.max(outputs, 1)\n",
        "\n",
        "            total += labels.size(0)\n",
        "            correct+= (labels == pred).sum().item()\n",
        "\n",
        "    print(f'Accuracy of the network on the 10000 test images: {100 * correct // total} %')"
      ],
      "outputs": [
        {
          "output_type": "stream",
          "name": "stdout",
          "text": "1/5\t Loss: 23155.707929700613\nAccuracy of the network on the 10000 test images: 43 %\n2/5\t Loss: 18610.147414311767\nAccuracy of the network on the 10000 test images: 48 %\n3/5\t Loss: 17226.66496795416\nAccuracy of the network on the 10000 test images: 53 %\n4/5\t Loss: 16335.551332637668\nAccuracy of the network on the 10000 test images: 53 %\n5/5\t Loss: 15707.44439072162\nAccuracy of the network on the 10000 test images: 55 %\n"
        }
      ],
      "execution_count": 47,
      "metadata": {
        "gather": {
          "logged": 1757151469830
        }
      }
    },
    {
      "cell_type": "code",
      "source": [
        "'''\n",
        "Conclusion: \n",
        "With data augmentation and SGD, Accuracy: 60%\n",
        "1/5\t Loss: 15060.902942225337\n",
        "Accuracy of the network on the 10000 test images: 55 %\n",
        "2/5\t Loss: 14588.051873132586\n",
        "Accuracy of the network on the 10000 test images: 57 %\n",
        "3/5\t Loss: 14274.457989791408\n",
        "Accuracy of the network on the 10000 test images: 60 %\n",
        "4/5\t Loss: 13943.432368926704\n",
        "Accuracy of the network on the 10000 test images: 57 %\n",
        "5/5\t Loss: 13680.78549992945\n",
        "Accuracy of the network on the 10000 test images: 59 %\n",
        "\n",
        "\n",
        "Decided to train longer with Adam to test if the model is capable of learning features better\n",
        "'''"
      ],
      "outputs": [],
      "execution_count": null,
      "metadata": {}
    },
    {
      "cell_type": "code",
      "source": [
        "optimizer = optim.Adam(model.parameters(),lr=1e-3)\n",
        "\n",
        "# Training Network\n",
        "epochs = 20\n",
        "\n",
        "\n",
        "for epoch in range(epochs):\n",
        "    model.train()\n",
        "    running_loss = 0.0\n",
        "\n",
        "    for _, data in enumerate(train_dataloader, 0):\n",
        "        images, labels = data\n",
        "        images, labels = images.to(device), labels.to(device)\n",
        "\n",
        "        # forward pass\n",
        "        out = model(images)\n",
        "        loss = criterion(out, labels)\n",
        "\n",
        "        # Backward pass\n",
        "        optimizer.zero_grad()\n",
        "        loss.backward()\n",
        "        optimizer.step()\n",
        "\n",
        "        running_loss += loss.item()\n",
        "\n",
        "    print(f\"{epoch+1}/{epochs}\\t Loss: {running_loss}\")\n",
        "    model.eval()\n",
        "    correct , total = 0, 0\n",
        "\n",
        "    with torch.no_grad():\n",
        "        for data in test_dataloader:\n",
        "            images, labels = data\n",
        "            images, labels = images.to(device), labels.to(device)\n",
        "\n",
        "            outputs = model(images)\n",
        "\n",
        "            _, pred = torch.max(outputs, 1)\n",
        "\n",
        "            total += labels.size(0)\n",
        "            correct+= (labels == pred).sum().item()\n",
        "\n",
        "    print(f'Accuracy of the network on the 10000 test images: {100 * correct // total} %')"
      ],
      "outputs": [
        {
          "output_type": "stream",
          "name": "stdout",
          "text": "1/20\t Loss: 16353.0118913427\nAccuracy of the network on the 10000 test images: 54 %\n2/20\t Loss: 15738.603235092014\nAccuracy of the network on the 10000 test images: 54 %\n3/20\t Loss: 15207.640688482672\nAccuracy of the network on the 10000 test images: 54 %\n4/20\t Loss: 14849.083891026676\nAccuracy of the network on the 10000 test images: 56 %\n5/20\t Loss: 14613.8414621111\nAccuracy of the network on the 10000 test images: 56 %\n6/20\t Loss: 14358.785477348603\nAccuracy of the network on the 10000 test images: 58 %\n7/20\t Loss: 14170.865539890248\nAccuracy of the network on the 10000 test images: 58 %\n8/20\t Loss: 13988.09887840692\nAccuracy of the network on the 10000 test images: 57 %\n9/20\t Loss: 13847.965250707231\nAccuracy of the network on the 10000 test images: 59 %\n10/20\t Loss: 13716.346561854705\nAccuracy of the network on the 10000 test images: 59 %\n11/20\t Loss: 13635.186566144694\nAccuracy of the network on the 10000 test images: 58 %\n12/20\t Loss: 13590.71666216664\nAccuracy of the network on the 10000 test images: 58 %\n13/20\t Loss: 13458.386197497137\nAccuracy of the network on the 10000 test images: 61 %\n14/20\t Loss: 13400.78333292529\nAccuracy of the network on the 10000 test images: 61 %\n15/20\t Loss: 13308.7966088166\nAccuracy of the network on the 10000 test images: 58 %\n16/20\t Loss: 13245.425613160944\nAccuracy of the network on the 10000 test images: 61 %\n17/20\t Loss: 13226.16415810577\nAccuracy of the network on the 10000 test images: 60 %\n18/20\t Loss: 13139.42915707687\nAccuracy of the network on the 10000 test images: 59 %\n19/20\t Loss: 13110.27580858441\nAccuracy of the network on the 10000 test images: 61 %\n20/20\t Loss: 13010.70862355316\nAccuracy of the network on the 10000 test images: 61 %\n"
        }
      ],
      "execution_count": 48,
      "metadata": {
        "gather": {
          "logged": 1757152225896
        }
      }
    }
  ],
  "metadata": {
    "kernelspec": {
      "name": "python38-azureml-pt-tf",
      "language": "python",
      "display_name": "Python 3.10 - Pytorch and Tensorflow"
    },
    "language_info": {
      "name": "python",
      "version": "3.10.16",
      "mimetype": "text/x-python",
      "codemirror_mode": {
        "name": "ipython",
        "version": 3
      },
      "pygments_lexer": "ipython3",
      "nbconvert_exporter": "python",
      "file_extension": ".py"
    },
    "microsoft": {
      "ms_spell_check": {
        "ms_spell_check_language": "en"
      },
      "host": {
        "AzureML": {
          "notebookHasBeenCompleted": true
        }
      }
    },
    "nteract": {
      "version": "nteract-front-end@1.0.0"
    },
    "kernel_info": {
      "name": "python38-azureml-pt-tf"
    }
  },
  "nbformat": 4,
  "nbformat_minor": 2
}