{
  "cells": [
    {
      "cell_type": "code",
      "source": [
        "from azureml.core import Workspace, Dataset, Datastore"
      ],
      "outputs": [],
      "execution_count": 1,
      "metadata": {
        "gather": {
          "logged": 1757263612721
        }
      }
    },
    {
      "cell_type": "code",
      "source": [
        "# Accessing dataset directly from Blob storage container\n",
        "ws = Workspace.from_config()\n",
        "datastore = Datastore.get(ws, \"cvdatastore\")\n",
        "\n",
        "dataset = Dataset.File.from_files(path=(datastore, \"Plant_leaf_diseases_dataset_with_augmentation/Plant_leave_diseases_dataset_with_augmentation/**\"))"
      ],
      "outputs": [],
      "execution_count": 2,
      "metadata": {
        "gather": {
          "logged": 1757263619169
        }
      }
    },
    {
      "cell_type": "code",
      "source": [
        "# I dont want to download the data here but directly accessing it from blob\n",
        "mount_context = dataset.mount()\n",
        "mount_context.start()\n",
        "\n",
        "data_path = mount_context.mount_point\n",
        "print(data_path)"
      ],
      "outputs": [
        {
          "output_type": "stream",
          "name": "stdout",
          "text": "/tmp/tmpz4uupnnm\n"
        }
      ],
      "execution_count": 43,
      "metadata": {
        "gather": {
          "logged": 1757267366169
        }
      }
    },
    {
      "cell_type": "code",
      "source": [
        "import os\n",
        "\n",
        "for root, dirs, files in os.walk(data_path):\n",
        "    print(root, len(files))\n",
        "    print(len(dirs))\n",
        "    break\n"
      ],
      "outputs": [
        {
          "output_type": "stream",
          "name": "stdout",
          "text": "/tmp/tmp025igtqb 0\n39\n"
        }
      ],
      "execution_count": 4,
      "metadata": {
        "gather": {
          "logged": 1757263621109
        }
      }
    },
    {
      "cell_type": "code",
      "source": [
        "import torch\n",
        "from torchvision import datasets\n",
        "from torchvision import transforms\n",
        "from torchvision import models\n",
        "from torch.utils.data import DataLoader, random_split\n",
        "from torch import nn"
      ],
      "outputs": [],
      "execution_count": 5,
      "metadata": {
        "gather": {
          "logged": 1757263639886
        }
      }
    },
    {
      "cell_type": "code",
      "source": [
        "train_transform = transforms.Compose([\n",
        "    transforms.Resize((224, 224)),\n",
        "    transforms.RandomHorizontalFlip(),\n",
        "    transforms.RandomRotation(15),\n",
        "    transforms.ToTensor(),\n",
        "    transforms.Normalize([0.485, 0.456, 0.406],\n",
        "                         [0.229, 0.224, 0.225])\n",
        "])\n",
        "test_transform = transforms.Compose([\n",
        "    transforms.Resize((224,224)),\n",
        "    transforms.ToTensor(),\n",
        "    transforms.Normalize([0.485, 0.456, 0.406],\n",
        "                         [0.229, 0.224, 0.225])\n",
        "])"
      ],
      "outputs": [],
      "execution_count": 45,
      "metadata": {
        "gather": {
          "logged": 1757267386340
        }
      }
    },
    {
      "cell_type": "code",
      "source": [
        "full_dataset = datasets.ImageFolder(root=data_path)\n",
        "\n",
        "\n",
        "train_size = int(0.8*len(full_dataset))\n",
        "test_size = len(full_dataset)-train_size\n",
        "train_dataset, test_dataset = random_split(full_dataset,[train_size,test_size])"
      ],
      "outputs": [],
      "execution_count": 48,
      "metadata": {
        "gather": {
          "logged": 1757267406582
        }
      }
    },
    {
      "cell_type": "code",
      "source": [
        "len(full_dataset.classes)"
      ],
      "outputs": [
        {
          "output_type": "execute_result",
          "execution_count": 49,
          "data": {
            "text/plain": "39"
          },
          "metadata": {}
        }
      ],
      "execution_count": 49,
      "metadata": {
        "gather": {
          "logged": 1757267407169
        }
      }
    },
    {
      "cell_type": "code",
      "source": [
        "train_dataset.dataset.transform=train_transform\n",
        "test_dataset.dataset.transform = test_transform"
      ],
      "outputs": [],
      "execution_count": 50,
      "metadata": {
        "gather": {
          "logged": 1757267407600
        }
      }
    },
    {
      "cell_type": "code",
      "source": [
        "trainloader = DataLoader(train_dataset,batch_size=128,shuffle=True)\n",
        "testloader = DataLoader(test_dataset,batch_size=128,shuffle=False)"
      ],
      "outputs": [],
      "execution_count": 51,
      "metadata": {
        "gather": {
          "logged": 1757267410527
        }
      }
    },
    {
      "cell_type": "code",
      "source": [
        "len(trainloader)"
      ],
      "outputs": [
        {
          "output_type": "execute_result",
          "execution_count": 30,
          "data": {
            "text/plain": "385"
          },
          "metadata": {}
        }
      ],
      "execution_count": 30,
      "metadata": {
        "gather": {
          "logged": 1757265918575
        }
      }
    },
    {
      "cell_type": "code",
      "source": [
        "device = \"cuda\" if torch.cuda.is_available() else \"cpu\""
      ],
      "outputs": [],
      "execution_count": 31,
      "metadata": {
        "gather": {
          "logged": 1757265934244
        }
      }
    },
    {
      "cell_type": "code",
      "source": [
        "model = models.resnet18(pretrained = True)\n",
        "print(model)"
      ],
      "outputs": [
        {
          "output_type": "stream",
          "name": "stderr",
          "text": "/anaconda/envs/azureml_py38_PT_TF/lib/python3.10/site-packages/torchvision/models/_utils.py:208: UserWarning: The parameter 'pretrained' is deprecated since 0.13 and may be removed in the future, please use 'weights' instead.\n  warnings.warn(\n/anaconda/envs/azureml_py38_PT_TF/lib/python3.10/site-packages/torchvision/models/_utils.py:223: UserWarning: Arguments other than a weight enum or `None` for 'weights' are deprecated since 0.13 and may be removed in the future. The current behavior is equivalent to passing `weights=ResNet18_Weights.IMAGENET1K_V1`. You can also use `weights=ResNet18_Weights.DEFAULT` to get the most up-to-date weights.\n  warnings.warn(msg)\n"
        }
      ],
      "execution_count": 32,
      "metadata": {
        "gather": {
          "logged": 1757265935710
        }
      }
    },
    {
      "cell_type": "code",
      "source": [
        "# Freezing all the layers\n",
        "for param in model.parameters():\n",
        "    param.requires_grad=False \n",
        "\n",
        "# Replacing the last layer with only 39 oputputs\n",
        "n_features = model.fc.in_features\n",
        "model.fc = nn.Linear(n_features, 39)\n",
        "\n",
        "model = model.to(device)"
      ],
      "outputs": [],
      "execution_count": 33,
      "metadata": {
        "gather": {
          "logged": 1757265937272
        }
      }
    },
    {
      "cell_type": "code",
      "source": [
        "from torch import optim\n",
        "criterion = nn.CrossEntropyLoss()\n",
        "optimizer = optim.Adam(model.parameters(), lr=1e-3)"
      ],
      "outputs": [],
      "execution_count": 34,
      "metadata": {
        "gather": {
          "logged": 1757265938369
        }
      }
    },
    {
      "cell_type": "code",
      "source": [
        "# Model training & evaluating\n",
        "\n",
        "epochs = 5\n",
        "\n",
        "for epoch in range(epochs):\n",
        "    model.train()\n",
        "    running_loss = 0.0\n",
        "\n",
        "    for images, labels in trainloader:\n",
        "        images, labels = images.to(device), labels.to(device)\n",
        "\n",
        "        optimizer.zero_grad()\n",
        "        out = model(images)\n",
        "        loss = criterion(out, labels)\n",
        "\n",
        "        loss.backward()\n",
        "        optimizer.step()\n",
        "\n",
        "        running_loss += loss.item()\n",
        "\n",
        "    \n",
        "    correct, total = 0,0\n",
        "    with torch.no_grad():\n",
        "        for images, labels in testloader:\n",
        "            images, labels = images.to(device), labels.to(device)\n",
        "            out = model(images)\n",
        "            _, pred = torch.max(out, 1)\n",
        "            total += labels.size(0)\n",
        "            correct += (pred==labels).sum().item()\n",
        "\n",
        "    print(f\"Epoch:{epoch+1}/{epochs}\\t loss: {running_loss}\\t Accuracy: {100*correct/total}%\")"
      ],
      "outputs": [
        {
          "output_type": "stream",
          "name": "stdout",
          "text": "Epoch:1/5\t loss: 305.20731569826603\t Accuracy: 93.82013335501708%\nEpoch:2/5\t loss: 90.35128190368414\t Accuracy: 95.18620913969751%\nEpoch:3/5\t loss: 66.16048909723759\t Accuracy: 95.62530492763051%\nEpoch:4/5\t loss: 54.370044618844986\t Accuracy: 95.89364124247845%\nEpoch:5/5\t loss: 47.24691991135478\t Accuracy: 95.99934948772157%\n"
        }
      ],
      "execution_count": 35,
      "metadata": {
        "gather": {
          "logged": 1757267056013
        }
      }
    },
    {
      "cell_type": "code",
      "source": [
        "mount_context.stop()"
      ],
      "outputs": [],
      "execution_count": 54,
      "metadata": {
        "gather": {
          "logged": 1757267426521
        }
      }
    }
  ],
  "metadata": {
    "kernelspec": {
      "name": "python38-azureml-pt-tf",
      "language": "python",
      "display_name": "Python 3.10 - Pytorch and Tensorflow"
    },
    "language_info": {
      "name": "python",
      "version": "3.10.16",
      "mimetype": "text/x-python",
      "codemirror_mode": {
        "name": "ipython",
        "version": 3
      },
      "pygments_lexer": "ipython3",
      "nbconvert_exporter": "python",
      "file_extension": ".py"
    },
    "microsoft": {
      "ms_spell_check": {
        "ms_spell_check_language": "en"
      },
      "host": {
        "AzureML": {
          "notebookHasBeenCompleted": true
        }
      }
    },
    "kernel_info": {
      "name": "python38-azureml-pt-tf"
    },
    "nteract": {
      "version": "nteract-front-end@1.0.0"
    }
  },
  "nbformat": 4,
  "nbformat_minor": 2
}