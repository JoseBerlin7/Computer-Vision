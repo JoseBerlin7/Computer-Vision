{
  "cells": [
    {
      "cell_type": "code",
      "source": [
        "from azureml.core import Workspace, Datastore, Dataset\n",
        "\n",
        "from torch import nn\n",
        "import torch\n",
        "from torchvision import datasets, transforms, models\n",
        "from torch.utils.data import DataLoader, random_split\n",
        "\n",
        "import matplotlib.pyplot as plt\n",
        "\n",
        "from torch import optim"
      ],
      "outputs": [],
      "execution_count": 1,
      "metadata": {
        "gather": {
          "logged": 1757273578377
        }
      }
    },
    {
      "cell_type": "code",
      "source": [
        "ws = Workspace.from_config()\n",
        "\n",
        "ds = Datastore.get(ws, \"cvdatastore\")\n",
        "\n",
        "dataset = Dataset.File.from_files(path=(ds, \"Plant_leaf_diseases_dataset_with_augmentation/Plant_leave_diseases_dataset_with_augmentation/**\"))\n",
        "\n",
        "mount_context = dataset.mount()\n",
        "mount_context.start()\n",
        "\n",
        "data_path = mount_context.mount_point"
      ],
      "outputs": [],
      "execution_count": 2,
      "metadata": {
        "gather": {
          "logged": 1757273586083
        }
      }
    },
    {
      "cell_type": "code",
      "source": [
        "# As the data is already augmented we will go with no aug transform\n",
        "transform = transforms.Compose([\n",
        "    transforms.Resize((244,244)),\n",
        "    transforms.ToTensor(),\n",
        "    transforms.Normalize([0.485, 0.456, 0.406],\n",
        "                         [0.229, 0.224, 0.225])\n",
        "])\n",
        "\n",
        "full_dataset = datasets.ImageFolder(root=data_path,transform=transform)\n",
        "\n",
        "train_ratio = int(0.8*len(full_dataset))\n",
        "test_ratio = len(full_dataset)-train_ratio\n",
        "\n",
        "train_ds, test_ds = random_split(full_dataset, [train_ratio, test_ratio])\n",
        "\n",
        "\n",
        "train_loader = DataLoader(train_ds, batch_size=128, shuffle=True)\n",
        "test_loader = DataLoader(test_ds, batch_size=128, shuffle=False)\n",
        "\n",
        "device = \"cuda\" if torch.cuda.is_available() else \"cpu\""
      ],
      "outputs": [],
      "execution_count": 3,
      "metadata": {
        "gather": {
          "logged": 1757273593945
        }
      }
    },
    {
      "cell_type": "code",
      "source": [
        "# Model & eval definition\n",
        "\n",
        "model = models.resnet18(pretrained=True)\n",
        "\n",
        "for param in model.parameters():\n",
        "    param.requires_grad=False\n",
        "\n",
        "model.fc = nn.Linear(model.fc.in_features, len(full_dataset.classes))\n",
        "\n",
        "model = model.to(device)\n",
        "\n",
        "criterion = nn.CrossEntropyLoss()\n",
        "optimizer = optim.Adam(model.parameters(),lr=1e-3)"
      ],
      "outputs": [
        {
          "output_type": "stream",
          "name": "stderr",
          "text": "/anaconda/envs/azureml_py38_PT_TF/lib/python3.10/site-packages/torchvision/models/_utils.py:208: UserWarning: The parameter 'pretrained' is deprecated since 0.13 and may be removed in the future, please use 'weights' instead.\n  warnings.warn(\n/anaconda/envs/azureml_py38_PT_TF/lib/python3.10/site-packages/torchvision/models/_utils.py:223: UserWarning: Arguments other than a weight enum or `None` for 'weights' are deprecated since 0.13 and may be removed in the future. The current behavior is equivalent to passing `weights=ResNet18_Weights.IMAGENET1K_V1`. You can also use `weights=ResNet18_Weights.DEFAULT` to get the most up-to-date weights.\n  warnings.warn(msg)\n"
        }
      ],
      "execution_count": 4,
      "metadata": {
        "gather": {
          "logged": 1757273606253
        }
      }
    },
    {
      "cell_type": "code",
      "source": [
        "# Training \n",
        "epochs = 5\n",
        "\n",
        "for epoch in range(epochs):\n",
        "    model.train()\n",
        "    running_loss = 0.0\n",
        "\n",
        "    for images, labels in train_loader:\n",
        "        images, labels = images.to(device), labels.to(device)\n",
        "\n",
        "        out = model(images)\n",
        "        loss = criterion(out, labels)\n",
        "\n",
        "        optimizer.zero_grad()\n",
        "        loss.backward()\n",
        "        optimizer.step()\n",
        "        \n",
        "        running_loss += loss.item()\n",
        "    \n",
        "    model.eval()\n",
        "    correct, total = 0,0\n",
        "    with torch.no_grad():\n",
        "        for images, labels in test_loader:\n",
        "            images, labels = images.to(device),labels.to(device)\n",
        "            out = model(images)\n",
        "            \n",
        "            _, pred = torch.max(out,1)\n",
        "            total += labels.size(0)\n",
        "            correct += (pred==labels).sum().item()\n",
        "\n",
        "    print(f\"Epoch:{epoch}/{epochs}\\tLoss:{running_loss}\\tAccuracy:{100*correct/total}\")"
      ],
      "outputs": [
        {
          "output_type": "stream",
          "name": "stdout",
          "text": "Epoch:0/5\tLoss:157.0681322813034\tAccuracy:94.31614896731176\nEpoch:1/5\tLoss:81.9086384922266\tAccuracy:95.34070580582208\nEpoch:2/5\tLoss:62.601786985993385\tAccuracy:95.9830866807611\nEpoch:3/5\tLoss:51.67556782066822\tAccuracy:96.13758334688568\nEpoch:4/5\tLoss:45.24557711556554\tAccuracy:96.52789071393723\n"
        }
      ],
      "execution_count": 7,
      "metadata": {
        "gather": {
          "logged": 1757276702586
        }
      }
    },
    {
      "cell_type": "code",
      "source": [
        "mount_context.stop()\n",
        "\n",
        "model.eval()\n",
        "torch.save(model.state_dict,\"leaf_disease_model.pth\")"
      ],
      "outputs": [],
      "execution_count": 8,
      "metadata": {
        "gather": {
          "logged": 1757276740544
        }
      }
    }
  ],
  "metadata": {
    "kernelspec": {
      "name": "python38-azureml-pt-tf",
      "language": "python",
      "display_name": "Python 3.10 - Pytorch and Tensorflow"
    },
    "language_info": {
      "name": "python",
      "version": "3.10.16",
      "mimetype": "text/x-python",
      "codemirror_mode": {
        "name": "ipython",
        "version": 3
      },
      "pygments_lexer": "ipython3",
      "nbconvert_exporter": "python",
      "file_extension": ".py"
    },
    "microsoft": {
      "ms_spell_check": {
        "ms_spell_check_language": "en"
      },
      "host": {
        "AzureML": {
          "notebookHasBeenCompleted": true
        }
      }
    },
    "kernel_info": {
      "name": "python38-azureml-pt-tf"
    },
    "nteract": {
      "version": "nteract-front-end@1.0.0"
    }
  },
  "nbformat": 4,
  "nbformat_minor": 2
}